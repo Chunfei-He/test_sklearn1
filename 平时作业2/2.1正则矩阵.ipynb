{
 "cells": [
  {
   "cell_type": "code",
   "execution_count": 1,
   "metadata": {},
   "outputs": [],
   "source": [
    "import xlrd\n",
    "import numpy as np\n",
    "import numpy\n",
    "from sklearn.linear_model import LinearRegression,Ridge \n",
    "from matplotlib.font_manager import  FontProperties\n",
    "import matplotlib.pyplot as plt\n",
    "from scipy.interpolate import interp1d  "
   ]
  },
  {
   "cell_type": "code",
   "execution_count": null,
   "metadata": {},
   "outputs": [],
   "source": [
    "trained_model = None"
   ]
  },
  {
   "cell_type": "code",
   "execution_count": null,
   "metadata": {},
   "outputs": [],
   "source": [
    "def read_xlrd():\n",
    "    excel1 = xlrd.open_workbook(r'离差标准化后的数据.xls')\n",
    "    sheet2_name = excel1.sheet_names()[0]\n",
    "    sheet2 = excel1.sheet_by_name('Sheet1')\n",
    "    row_list = []\n",
    "    #print (sheet2.name,sheet2.nrows,sheet2.ncols)\n",
    "    for i in range(sheet2.nrows):\n",
    "        #print(sheet2.row_values(i))\n",
    "        if i != 0:\n",
    "            row_list.append(sheet2.row_values(i))\n",
    "    #print (row_list)\n",
    "    row_list = numpy.array(row_list,dtype='float')\n",
    "    #print (row_list)\n",
    "    '''\n",
    "    list1 = numpy.log(row_list[:,2:7])\n",
    "    list2 = numpy.log(row_list[:,7])\n",
    "    print(list1)\n",
    "    print(list2)\n",
    "    X = numpy.insert(list1,0,values = list2,axis=1)\n",
    "    print(X)  \n",
    "    '''\n",
    "    X = row_list[:,2:]\n",
    "    Y = row_list[:,1]\n",
    "    Z = row_list[:,0]\n",
    "    # print(X,Y)\n",
    "    return X,Y,Z "
   ]
  },
  {
   "cell_type": "code",
   "execution_count": null,
   "metadata": {},
   "outputs": [],
   "source": [
    "def Linear():\n",
    "    global trained_model\n",
    "    X,Y,Z = read_xlrd()    \n",
    "    model = Ridge(alpha = 0.000001)#设置线性回归\n",
    "    model.fit(X, Y)     # 训练模型\n",
    "    trained_model = model  # 保存训练好的模型  \n",
    "    a = model.coef_     #各个参数的权重\n",
    "    b = model.intercept_#截距b的值 Y=a1*x1+a2*x2+a3*x3+b\n",
    "    # 输出错误差值平方均值 \n",
    "    print('各个参数的权重：',a)\n",
    "    # print('截距：',b)\n",
    "    x_test = X[20:]#测试数据的X数组的值\n",
    "    y_test = Y[20:]#测试数据的Y的值\n",
    "    print(y_test)\n",
    "    predictions = model.predict(x_test)#选择后11个数据作为测试数据\n",
    "    for i, prediction in enumerate(predictions):\n",
    "        print('预测: %s, 结果: %s' % (prediction, y_test[i]))\n",
    "    c = np.mean((model.predict(x_test) - y_test) ** 2)\n",
    "    print('错误差值平方均值',c)\n",
    "    a = model.score(x_test,y_test)\n",
    "    print('得分：%.2f' %a)#模型得分 "
   ]
  },
  {
   "cell_type": "code",
   "execution_count": null,
   "metadata": {},
   "outputs": [],
   "source": [
    "def getChineseFont():\n",
    "    return FontProperties(fname='C:\\Windows\\Fonts\\simsun.ttc')"
   ]
  },
  {
   "cell_type": "code",
   "execution_count": null,
   "metadata": {},
   "outputs": [],
   "source": [
    "def matplotlab_train_samples():  \n",
    "    X, Y, Z = read_xlrd()  \n",
    "  \n",
    "    plt.figure(figsize=(10, 5))  \n",
    "    plt.ylabel('二氧化碳排放量/万吨', fontproperties=getChineseFont())  \n",
    "    plt.xlabel(\"年份\", fontproperties=getChineseFont())  \n",
    "    # 训练样本（蓝色三角）  \n",
    "    plt.scatter(Z[:20], Y[:20], color='blue', marker='^')  \n",
    "    plt.title('训练样本', fontproperties=getChineseFont())  \n",
    "    plt.savefig('训练样本.png')\n",
    "    # plt.show()  \n",
    "    \n",
    "  \n",
    "def matplotlab_test_samples():  \n",
    "    X, Y, Z = read_xlrd()  \n",
    "  \n",
    "    plt.figure(figsize=(10, 5))  \n",
    "    plt.ylabel('二氧化碳排放量/万吨', fontproperties=getChineseFont())  \n",
    "    plt.xlabel(\"年份\", fontproperties=getChineseFont())  \n",
    "    # 测试样本（红色星号）  \n",
    "    plt.scatter(Z[20:], Y[20:], color='red', marker='*')  \n",
    "    plt.title('测试样本', fontproperties=getChineseFont())  \n",
    "    # plt.show()  \n",
    "    plt.savefig('测试样本.png')\n",
    "  \n",
    "def matplotlab_regression_line():  \n",
    "    X, Y, Z = read_xlrd()  \n",
    "      \n",
    "    plt.ylabel('二氧化碳排放量/万吨', fontproperties=getChineseFont())  \n",
    "    plt.xlabel(\"年份\", fontproperties=getChineseFont())  \n",
    "      \n",
    "    # 绘制训练样本（蓝色三角）  \n",
    "    plt.scatter(Z[:20], Y[:20], color='blue', marker='^', label='训练样本')  \n",
    "      \n",
    "    # 绘制测试样本（红色星号）  \n",
    "    plt.scatter(Z[20:], Y[20:], color='red', marker='*', label='测试样本')  \n",
    "    \n",
    "    # 定义新的插值点，从0到30均匀分布100个点  \n",
    "    new_points = np.linspace(0, 30, 100)  \n",
    "    \n",
    "    # 初始化一个新的100x6的矩阵来存储插值结果  \n",
    "    X_interpolated = np.zeros((100, 6))  \n",
    "    \n",
    "    # 对每一列进行插值  \n",
    "    for i in range(6):  \n",
    "        f = interp1d(np.arange(31), X[:, i], kind='cubic')  # 使用三次立方插值  \n",
    "        X_interpolated[:, i] = f(new_points) \n",
    "    # print(X_interpolated.shape)\n",
    "\n",
    "    # 绘制回归线（绿色实线）  \n",
    "    if trained_model is not None:  \n",
    "        # 注意：这里的line_X_features构造方式可能需要根据实际数据的特征进行调整  \n",
    "        line_X = np.linspace(Z.min(), Z.max(), 100).reshape(-1, 1)  \n",
    "        line_X_features = np.hstack((line_X, np.zeros((line_X.shape[0], X.shape[1] - 1))))  \n",
    "        line_Y_pred = trained_model.predict(X_interpolated)  \n",
    "        plt.plot(line_X, line_Y_pred, color='green', linestyle='-', label='回归线')  \n",
    "      \n",
    "    plt.legend(prop=getChineseFont())  # 添加图例，并使用中文字体  \n",
    "    plt.title('年份与碳排放的关系及回归线图', fontproperties=getChineseFont())  \n",
    "    # plt.savefig('年份与碳排放的关系及回归线图.png')\n",
    "    plt.show()\n",
    "    "
   ]
  },
  {
   "cell_type": "code",
   "execution_count": null,
   "metadata": {},
   "outputs": [],
   "source": [
    "Linear()\n",
    "matplotlab_train_samples()  # 绘制训练样本图  \n",
    "matplotlab_test_samples()  # 绘制测试样本图  \n",
    "matplotlab_regression_line()  # 绘制回归线图"
   ]
  }
 ],
 "metadata": {
  "kernelspec": {
   "display_name": "linear_reg",
   "language": "python",
   "name": "python3"
  },
  "language_info": {
   "codemirror_mode": {
    "name": "ipython",
    "version": 3
   },
   "file_extension": ".py",
   "mimetype": "text/x-python",
   "name": "python",
   "nbconvert_exporter": "python",
   "pygments_lexer": "ipython3",
   "version": "3.9.19"
  }
 },
 "nbformat": 4,
 "nbformat_minor": 2
}
