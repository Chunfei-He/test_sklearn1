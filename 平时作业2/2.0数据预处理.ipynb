{
 "cells": [
  {
   "cell_type": "code",
   "execution_count": null,
   "metadata": {},
   "outputs": [],
   "source": [
    "import pandas as pd\n",
    "\n",
    "#初始化参数，数据标准化\n",
    "filename = '内蒙古碳排放指标统计数据.xlsx'\n",
    "filename1 = '离差标准化后的数据.xlsx'\n",
    "data = pd.read_excel(filename,index_col =\"年份（内蒙古）\")\n",
    "data = (data-data.min())/(data.max()-data.min())\n",
    "data = data.reset_index()\n",
    "data.to_excel(filename1,index = False)"
   ]
  }
 ],
 "metadata": {
  "language_info": {
   "name": "python"
  }
 },
 "nbformat": 4,
 "nbformat_minor": 2
}
